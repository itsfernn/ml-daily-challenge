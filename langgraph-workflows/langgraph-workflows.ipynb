{
 "cells": [
  {
   "cell_type": "markdown",
   "id": "3aceb77d-c137-44b2-a38d-ae31639f5a84",
   "metadata": {},
   "source": [
    "# Workflows and Agents\n",
    "\n",
    "There is a lot of confusion about what exactly an ai agent is and the differnce between an llm workflow and an agent. Luckily this blog post from [Anthropic](https://www.anthropic.com/engineering/building-effective-agents) goes into a lot of detail. Today we will explore the different types of workflows and agents using a practical example for each:\n",
    "\n",
    "All augmented LLMs cloud be considered an agent. As long as there is some dynamic interaction from the LLM with the environment. For example, writing to a file, executing a command or reading an error message. However Anthorpic has a more strict definition, drawing a distinction between workflows and agents:\n",
    "\n",
    "- **Workflows** are systems where LLMs and tools are orchestrated through predefined code paths.\n",
    "- **Agents**, on the other hand, are systems where LLMs dynamically direct their own processes and tool usage, maintaining control over how they accomplish tasks.\n",
    "\n",
    "So workflows give you more rigid deterministic control over the process, while agents are more flexible and can adapt to the situation at hand. Often the simplest solution is the best, and that might mean, even though agents is the buzzword of the week, using a workflow in many cases.\n",
    "> Agentic systems often trade latency and cost for better task performance, and you should consider when this tradeoff makes sense."
   ]
  },
  {
   "cell_type": "markdown",
   "id": "1ddc9437-3878-4536-9e21-76b2477afd5c",
   "metadata": {},
   "source": [
    "## Prompt chaining\n",
    "A simple workflow that pipes the output of one prompt as input to another prompt. It can even have some arbitrary logic to gate between the prompts. \n",
    "\n"
   ]
  },
  {
   "cell_type": "code",
   "execution_count": null,
   "id": "a2933ddc-70be-48dc-ae25-6f2861c78570",
   "metadata": {},
   "outputs": [],
   "source": [
    "!pip install langgraph"
   ]
  },
  {
   "cell_type": "code",
   "execution_count": 13,
   "id": "9f520ac8-0506-4884-b566-5c3831d134af",
   "metadata": {},
   "outputs": [],
   "source": [
    "from langchain_openai import ChatOpenAI\n",
    "from dotenv import load_dotenv\n",
    "\n",
    "load_dotenv()\n",
    "llm = ChatOpenAI(model=\"gpt-4.1-mini\")"
   ]
  },
  {
   "cell_type": "code",
   "execution_count": 36,
   "id": "b12dc8e5-44d8-4612-b7f0-111b72fceca5",
   "metadata": {},
   "outputs": [],
   "source": [
    "from typing_extensions import TypedDict\n",
    "\n",
    "# Graph state\n",
    "class State(TypedDict):\n",
    "    topic: str\n",
    "    joke: str\n",
    "    improved_joke: str\n",
    "    shortened_joke: str\n",
    "\n",
    "\n",
    "def generate_joke(state: State):\n",
    "    \"\"\"Generates inital Joke\"\"\"\n",
    "\n",
    "    msg = llm.invoke(f\"Write a short joke about {state['topic']}\")\n",
    "    return {\"joke\": msg.content}\n",
    "\n",
    "def improve_joke(state: State):\n",
    "    \"\"\"Second LLM call to improve the joke\"\"\"\n",
    "\n",
    "    msg = llm.invoke(f\"Make this joke funnier, only print the joke: {state['joke']}\")\n",
    "    return {\"improved_joke\": msg.content}\n",
    "\n",
    "\n",
    "def shorten_joke(state: State):\n",
    "    \"\"\"Third LLM call to shorten the joke\"\"\"\n",
    "\n",
    "    msg = llm.invoke(f\"Make this joke shorter: {state['improved_joke']}\")\n",
    "    return {\"shortened_joke\": msg.content}\n",
    "\n",
    "\n",
    "def check_length(state: State):\n",
    "    \"\"\"Gate function to check if the joke is too long\"\"\"\n",
    "\n",
    "    # Check if the joke is too long\n",
    "    if  len(state[\"improved_joke\"].split()) > 20:\n",
    "        return  \"too long\"\n",
    "    return \"pass\"\n"
   ]
  },
  {
   "cell_type": "code",
   "execution_count": 37,
   "id": "f9974aa6-4913-48a0-851d-f389da73eab3",
   "metadata": {},
   "outputs": [
    {
     "data": {
      "image/png": "[encoded data removed]",
      "text/plain": [
       "<IPython.core.display.Image object>"
      ]
     },
     "metadata": {},
     "output_type": "display_data"
    }
   ],
   "source": [
    "from langgraph.graph import StateGraph, START, END\n",
    "from IPython.display import Image, display\n",
    "\n",
    "\n",
    "workflow = StateGraph(State)\n",
    "\n",
    "workflow.add_node(\"generate_joke\", generate_joke)\n",
    "workflow.add_node(\"improve_joke\", improve_joke)\n",
    "workflow.add_node(\"shorten_joke\", shorten_joke)\n",
    "\n",
    "workflow.add_edge(START, \"generate_joke\")\n",
    "workflow.add_edge(\"generate_joke\", \"improve_joke\")\n",
    "workflow.add_conditional_edges(\n",
    "    \"improve_joke\", check_length, {\"pass\": END, \"too long\": \"shorten_joke\"}\n",
    ")\n",
    "workflow.add_edge(\"shorten_joke\", END)\n",
    "\n",
    "chain = workflow.compile()\n",
    "\n",
    "display(Image(chain.get_graph().draw_mermaid_png()))"
   ]
  },
  {
   "cell_type": "code",
   "execution_count": 38,
   "id": "a1f472e0-7b82-4d4c-b693-7410602ae7ff",
   "metadata": {},
   "outputs": [
    {
     "name": "stdout",
     "output_type": "stream",
     "text": [
      "Initial joke:\n",
      "Why did the cat sit on the computer?  \n",
      "Because it wanted to keep an eye on the mouse!\n",
      "\n",
      "--- --- ---\n",
      "\n",
      "Improved joke:\n",
      "Why did the cat sit on the computer?  \n",
      "Because it heard the mouse was in there, and it didn’t want to be left out of the click party!\n",
      "\n",
      "--- --- ---\n",
      "\n",
      "Final joke:\n",
      "Why did the cat sit on the computer?  \n",
      "It heard the mouse was in there!\n"
     ]
    }
   ],
   "source": [
    "def print_state(state):\n",
    "    print(\"Initial joke:\")\n",
    "    print(state[\"joke\"])\n",
    "    print(\"\\n--- --- ---\\n\")\n",
    "    print(\"Improved joke:\")\n",
    "    print(state[\"improved_joke\"])\n",
    "    print(\"\\n--- --- ---\\n\")\n",
    "    if \"shortened_joke\" in state:\n",
    "        print(\"Final joke:\")\n",
    "        print(state[\"shortened_joke\"])\n",
    "    else:\n",
    "        print(\"Joke already short enought!\")\n",
    "        \n",
    "\n",
    "state = chain.invoke({\"topic\": \"cats\"})\n",
    "print_state(state)"
   ]
  },
  {
   "cell_type": "markdown",
   "id": "a9954cf8-0cc6-47c3-a348-806d5f56e76f",
   "metadata": {},
   "source": [
    "## Routing\n",
    "\n",
    "The idea between routing is selecting a specialized model for a specific task. This can be done by using a routing function that selects the model based on the input. The routing function can be as simple or complex as needed.\n",
    "\n",
    "If the task does not require a lot of resources, it might be a smaller model. Or maybe it redirects to a whole different agent that can retrieve information from a list of documents."
   ]
  },
  {
   "cell_type": "code",
   "execution_count": 92,
   "id": "9c3e7cc7-6423-4587-8732-dcda54642a15",
   "metadata": {},
   "outputs": [],
   "source": [
    "from typing_extensions import Literal\n",
    "from pydantic import BaseModel, Field\n",
    "\n",
    "# Schema for structured output to use as routing logic\n",
    "class Route(BaseModel):\n",
    "    step: Literal[\"general\", \"physics\", \"math\"] = Field(\n",
    "        None, description=\"The difficulty of the request\"\n",
    "    )\n",
    "\n",
    "# Augment the LLM with schema for structured output\n",
    "router = llm.with_structured_output(Route)"
   ]
  },
  {
   "cell_type": "code",
   "execution_count": 93,
   "id": "2ee755b4-f276-4191-b1fb-ebea24bbcf0a",
   "metadata": {},
   "outputs": [],
   "source": [
    "from langchain_core.messages import HumanMessage, SystemMessage\n",
    "\n",
    "class State(TypedDict):\n",
    "    input: str\n",
    "    decision: str\n",
    "    output: str\n",
    "\n",
    "physics_llm = ChatOpenAI(model=\"gpt-4.1-nano\")\n",
    "math_llm = ChatOpenAI(model=\"gpt-4.1-nano\")\n",
    "\n",
    "# Nodes\n",
    "def call_physics_llm(state: State):\n",
    "    result = physics_llm.invoke(state[\"input\"])\n",
    "    return {\"output\": result.content}\n",
    "\n",
    "def call_math_llm(state: State):\n",
    "    result = math_llm.invoke(state[\"input\"])\n",
    "    return {\"output\": result.content}\n",
    "\n",
    "def call_general_llm(state: State):\n",
    "    result = llm.invoke(state[\"input\"])\n",
    "    return {\"output\": result.content}\n",
    "\n",
    "\n",
    "def llm_call_router(state: State):\n",
    "    \"\"\"Route the input to the appropriate node\"\"\"\n",
    "\n",
    "    # Run the augmented LLM with structured output to serve as routing logic\n",
    "    decision = router.invoke(\n",
    "        [\n",
    "            SystemMessage(\n",
    "                content=\"Route the based on what knowledge is required to answer!\"\n",
    "            ),\n",
    "            HumanMessage(content=state[\"input\"]),\n",
    "        ]\n",
    "    )\n",
    "\n",
    "    return {\"decision\": decision.step}\n",
    "\n",
    "# Conditional edge function to route to the appropriate node\n",
    "def route_decision(state: State):\n",
    "    # Return the node name you want to visit next\n",
    "    if state[\"decision\"] == \"physics\":\n",
    "        return \"physics_llm\"\n",
    "    elif state[\"decision\"] == \"math\":\n",
    "        return \"math_llm\"\n",
    "    else:\n",
    "        return \"general_llm\""
   ]
  },
  {
   "cell_type": "code",
   "execution_count": 94,
   "id": "6e6e6515-2991-4dff-903a-15695d7e5e79",
   "metadata": {},
   "outputs": [
    {
     "data": {
      "image/png": "[encoded data removed]",
      "text/plain": [
       "<IPython.core.display.Image object>"
      ]
     },
     "metadata": {},
     "output_type": "display_data"
    }
   ],
   "source": [
    "# Build workflow\n",
    "router_builder = StateGraph(State)\n",
    "\n",
    "# Add nodes\n",
    "router_builder.add_node(\"llm_call_router\", llm_call_router)\n",
    "\n",
    "router_builder.add_node(\"physics_llm\", call_physics_llm)\n",
    "router_builder.add_node(\"math_llm\", call_math_llm)\n",
    "router_builder.add_node(\"general_llm\", call_general_llm)\n",
    "\n",
    "# Add edges to connect nodes\n",
    "router_builder.add_edge(START, \"llm_call_router\")\n",
    "\n",
    "router_builder.add_conditional_edges(\n",
    "    \"llm_call_router\",\n",
    "    route_decision,\n",
    "    {\n",
    "        \"physics_llm\":\"physics_llm\",\n",
    "         \"math_llm\" :\"math_llm\",\n",
    "         \"general_llm\":\"general_llm\", \n",
    "    }\n",
    ")\n",
    "router_builder.add_edge(\"physics_llm\", END)\n",
    "router_builder.add_edge(\"math_llm\", END)\n",
    "router_builder.add_edge(\"general_llm\", END)\n",
    "\n",
    "# Compile workflow\n",
    "router_workflow = router_builder.compile()\n",
    "\n",
    "# Show the workflow\n",
    "display(Image(router_workflow.get_graph().draw_mermaid_png()))"
   ]
  },
  {
   "cell_type": "code",
   "execution_count": 95,
   "id": "12153af9-6f91-4a5c-b3e8-bb356daa6f12",
   "metadata": {},
   "outputs": [
    {
     "name": "stdout",
     "output_type": "stream",
     "text": [
      "intput: hi how are you?\n",
      "llm called: general\n",
      "output: Hello! I'm doing great, thank you. How can I assist you today?\n"
     ]
    }
   ],
   "source": [
    "def print_state(state):\n",
    "    print(\"intput:\" ,state[\"input\"])\n",
    "    print(\"llm called:\", state[\"decision\"])\n",
    "    print(\"output:\", state[\"output\"])\n",
    "    \n",
    "state = router_workflow.invoke({\"input\": \"hi how are you?\"})\n",
    "print_state(state)"
   ]
  },
  {
   "cell_type": "code",
   "execution_count": 96,
   "id": "853e9ee3-d7e2-4820-b3b9-2771515130d5",
   "metadata": {},
   "outputs": [
    {
     "name": "stdout",
     "output_type": "stream",
     "text": [
      "intput: compute the square root of 365\n",
      "llm called: math\n",
      "output: The square root of 365 is approximately 19.104.\n"
     ]
    }
   ],
   "source": [
    "state = router_workflow.invoke({\"input\": \"compute the square root of 365\"})\n",
    "print_state(state)"
   ]
  },
  {
   "cell_type": "code",
   "execution_count": 97,
   "id": "edcf2865-8ac8-4581-81aa-909103acf204",
   "metadata": {},
   "outputs": [
    {
     "name": "stdout",
     "output_type": "stream",
     "text": [
      "intput: explain quantum physics in one sentence\n",
      "llm called: physics\n",
      "output: Quantum physics is the branch of science that studies the behavior of matter and energy at very small scales, where particles exhibit wave-like properties and are described by probabilistic states rather than definite positions or velocities.\n"
     ]
    }
   ],
   "source": [
    "state = router_workflow.invoke({\"input\": \"explain quantum physics in one sentence\"})\n",
    "print_state(state)"
   ]
  },
  {
   "cell_type": "code",
   "execution_count": null,
   "id": "f8486577-91db-4481-9a95-7774cac2a718",
   "metadata": {},
   "outputs": [],
   "source": []
  }
 ],
 "metadata": {
  "kernelspec": {
   "display_name": "ml-challenge-linear-regression",
   "language": "python",
   "name": "ml-challenge-linear-regression"
  },
  "language_info": {
   "codemirror_mode": {
    "name": "ipython",
    "version": 3
   },
   "file_extension": ".py",
   "mimetype": "text/x-python",
   "name": "python",
   "nbconvert_exporter": "python",
   "pygments_lexer": "ipython3",
   "version": "3.13.3"
  }
 },
 "nbformat": 4,
 "nbformat_minor": 5
}
